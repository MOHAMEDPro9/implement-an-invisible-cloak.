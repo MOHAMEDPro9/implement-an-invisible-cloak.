{
 "cells": [
  {
   "cell_type": "code",
   "execution_count": 31,
   "metadata": {},
   "outputs": [],
   "source": [
    "import cv2\n",
    "import numpy as np\n",
    "import time"
   ]
  },
  {
   "cell_type": "code",
   "execution_count": 32,
   "metadata": {},
   "outputs": [],
   "source": [
    "video_capture = cv2.VideoCapture(0)"
   ]
  },
  {
   "cell_type": "code",
   "execution_count": 33,
   "metadata": {},
   "outputs": [],
   "source": [
    "fourcc = cv2.VideoWriter_fourcc('m','p','4','v')# note the lower case\n",
    "frame_width = int(video_capture.get(3))\n",
    "frame_height = int(video_capture.get(4))\n",
    "out = cv2.VideoWriter('Harry_Potter.mp4',fourcc , 10, (frame_width,frame_height), True)"
   ]
  },
  {
   "cell_type": "code",
   "execution_count": 34,
   "metadata": {},
   "outputs": [],
   "source": [
    "time.sleep(3)\n",
    "background = 0"
   ]
  },
  {
   "cell_type": "code",
   "execution_count": 35,
   "metadata": {},
   "outputs": [],
   "source": [
    "for k in range(45):\n",
    "    ret,background = video_capture.read()\n",
    "    background = np.flip(background,axis=1)\n",
    "\n",
    "\n",
    "while(video_capture.isOpened()):\n",
    "    ret, image = video_capture.read()\n",
    "    if not ret:\n",
    "        break\n",
    "    image = np.flip(image,axis=1)\n",
    "    \n",
    "    # Change to HSV\n",
    "    hsv = cv2.cvtColor(image, cv2.COLOR_BGR2HSV)\n",
    "\n",
    "    #Create masks with coordinates to detect the color\n",
    "    lower_blue = np.array([94, 80, 2])\n",
    "    upper_blue = np.array([126, 255, 255])\n",
    "    #lower_red = np.array([161, 155, 84])\n",
    "   # upper_red = np.array([179, 255, 255])\n",
    "\n",
    "    mask_all = cv2.inRange(hsv,  lower_blue,upper_blue)\n",
    "\n",
    "\n",
    "    mask_all = cv2.morphologyEx(mask_all, cv2.MORPH_OPEN, np.ones((3,3),np.uint8))\n",
    "    mask_all = cv2.morphologyEx(mask_all, cv2.MORPH_DILATE, np.ones((3,3),np.uint8))\n",
    " \n",
    " \n",
    "    #Hide the blue part away\n",
    "    mask2 = cv2.bitwise_not(mask_all)\n",
    " \n",
    "    streamA = cv2.bitwise_and(image,image,mask=mask2)\n",
    "\n",
    "    #Copy the masked area's original part\n",
    "    streamB = cv2.bitwise_and(background, background, mask = mask_all)\n",
    " \n",
    " \n",
    "    #Write the video in the file specified in the previous block\n",
    "    output = cv2.addWeighted(streamA,1,streamB,1,0)\n",
    "    out.write(output)\n",
    "    cv2.imshow(\"cloak_trick\",output)\n",
    "    if cv2.waitKey(25) == ord('q'):\n",
    "        break\n",
    "        \n",
    "video_capture.release()\n",
    "out.release()\n",
    "cv2.destroyAllWindows()"
   ]
  },
  {
   "cell_type": "code",
   "execution_count": null,
   "metadata": {},
   "outputs": [],
   "source": []
  },
  {
   "cell_type": "code",
   "execution_count": null,
   "metadata": {},
   "outputs": [],
   "source": []
  }
 ],
 "metadata": {
  "kernelspec": {
   "display_name": "Python 3",
   "language": "python",
   "name": "python3"
  },
  "language_info": {
   "codemirror_mode": {
    "name": "ipython",
    "version": 3
   },
   "file_extension": ".py",
   "mimetype": "text/x-python",
   "name": "python",
   "nbconvert_exporter": "python",
   "pygments_lexer": "ipython3",
   "version": "3.8.5"
  }
 },
 "nbformat": 4,
 "nbformat_minor": 4
}
